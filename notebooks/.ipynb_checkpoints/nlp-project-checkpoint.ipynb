{
 "cells": [
  {
   "cell_type": "markdown",
   "id": "b8b9da97-a61b-47a1-92a0-d7c2d350e84c",
   "metadata": {},
   "source": [
    "### NLP Project\n",
    "- Emotion Detection in Text\n",
    "- Text Classifier"
   ]
  },
  {
   "cell_type": "code",
   "execution_count": 1,
   "id": "96271349-25e5-48d6-8df0-eb56469d52ac",
   "metadata": {},
   "outputs": [],
   "source": [
    "# EDA packages: \n",
    "import pandas as pd\n",
    "import numpy as np"
   ]
  },
  {
   "cell_type": "code",
   "execution_count": 2,
   "id": "9066d5a3-edb1-44b9-b0c9-2ff82e1d4ff7",
   "metadata": {},
   "outputs": [],
   "source": [
    "# Data\n",
    "import seaborn as sns"
   ]
  },
  {
   "cell_type": "code",
   "execution_count": 6,
   "id": "13fa4a40-0c95-493b-8f82-75fd61a858ab",
   "metadata": {},
   "outputs": [],
   "source": [
    "# Text Cleaning Packages: \n",
    "import neattext.functions as nfx"
   ]
  },
  {
   "cell_type": "code",
   "execution_count": 7,
   "id": "3a05e1da-19bd-4a03-a5a6-d5089e2a53b7",
   "metadata": {},
   "outputs": [],
   "source": [
    "# ML Packages:\n",
    "# Estimators: \n",
    "\n",
    "from sklearn.linear_model import LogisticRegression\n",
    "from sklearn.naive_bayes import MultinomialNB\n",
    "\n",
    "#Transformers \n",
    "from sklearn.feature_extraction.text import CountVectorizer\n",
    "from sklearn.model_selection import train_test_split\n",
    "from sklearn.metrics import accuracy_score, classification_report, confusion_matrix"
   ]
  },
  {
   "cell_type": "code",
   "execution_count": null,
   "id": "6b911b6d-b957-48ab-ba6e-6e79b60bbc3c",
   "metadata": {},
   "outputs": [],
   "source": [
    "# Dataset\n",
    "df = pd.read_csv(\" \")"
   ]
  }
 ],
 "metadata": {
  "kernelspec": {
   "display_name": "Python 3 (ipykernel)",
   "language": "python",
   "name": "python3"
  },
  "language_info": {
   "codemirror_mode": {
    "name": "ipython",
    "version": 3
   },
   "file_extension": ".py",
   "mimetype": "text/x-python",
   "name": "python",
   "nbconvert_exporter": "python",
   "pygments_lexer": "ipython3",
   "version": "3.9.6"
  }
 },
 "nbformat": 4,
 "nbformat_minor": 5
}
